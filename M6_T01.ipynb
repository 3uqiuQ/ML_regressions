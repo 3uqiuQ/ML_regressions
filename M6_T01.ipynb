{
 "cells": [
  {
   "cell_type": "markdown",
   "id": "61f8d4b7",
   "metadata": {},
   "source": [
    "**Exercici 1**  \n",
    "\n",
    "Crea almenys dos models de regressió diferents per intentar predir el millor possible el preu de les vivendes (MEDV) de l'arxiu adjunt."
   ]
  },
  {
   "cell_type": "code",
   "execution_count": 1,
   "id": "15d98fd6",
   "metadata": {},
   "outputs": [],
   "source": [
    "import numpy as np\n",
    "import pandas as pd\n",
    "import matplotlib.pyplot as plt\n",
    "import seaborn as sns"
   ]
  },
  {
   "cell_type": "code",
   "execution_count": 2,
   "id": "c04fb2ec",
   "metadata": {},
   "outputs": [
    {
     "data": {
      "text/html": [
       "<div>\n",
       "<style scoped>\n",
       "    .dataframe tbody tr th:only-of-type {\n",
       "        vertical-align: middle;\n",
       "    }\n",
       "\n",
       "    .dataframe tbody tr th {\n",
       "        vertical-align: top;\n",
       "    }\n",
       "\n",
       "    .dataframe thead th {\n",
       "        text-align: right;\n",
       "    }\n",
       "</style>\n",
       "<table border=\"1\" class=\"dataframe\">\n",
       "  <thead>\n",
       "    <tr style=\"text-align: right;\">\n",
       "      <th></th>\n",
       "      <th>CRIM</th>\n",
       "      <th>ZN</th>\n",
       "      <th>INDUS</th>\n",
       "      <th>CHAS</th>\n",
       "      <th>NOX</th>\n",
       "      <th>RM</th>\n",
       "      <th>AGE</th>\n",
       "      <th>DIS</th>\n",
       "      <th>RAD</th>\n",
       "      <th>TAX</th>\n",
       "      <th>PTRATIO</th>\n",
       "      <th>B</th>\n",
       "      <th>LSTAT</th>\n",
       "      <th>MEDV</th>\n",
       "    </tr>\n",
       "  </thead>\n",
       "  <tbody>\n",
       "    <tr>\n",
       "      <th>0</th>\n",
       "      <td>0.00632</td>\n",
       "      <td>18.0</td>\n",
       "      <td>2.31</td>\n",
       "      <td>0</td>\n",
       "      <td>0.538</td>\n",
       "      <td>6.575</td>\n",
       "      <td>65.2</td>\n",
       "      <td>4.0900</td>\n",
       "      <td>1</td>\n",
       "      <td>296.0</td>\n",
       "      <td>15.3</td>\n",
       "      <td>396.90</td>\n",
       "      <td>4.98</td>\n",
       "      <td>24.0</td>\n",
       "    </tr>\n",
       "    <tr>\n",
       "      <th>1</th>\n",
       "      <td>0.02731</td>\n",
       "      <td>0.0</td>\n",
       "      <td>7.07</td>\n",
       "      <td>0</td>\n",
       "      <td>0.469</td>\n",
       "      <td>6.421</td>\n",
       "      <td>78.9</td>\n",
       "      <td>4.9671</td>\n",
       "      <td>2</td>\n",
       "      <td>242.0</td>\n",
       "      <td>17.8</td>\n",
       "      <td>396.90</td>\n",
       "      <td>9.14</td>\n",
       "      <td>21.6</td>\n",
       "    </tr>\n",
       "    <tr>\n",
       "      <th>2</th>\n",
       "      <td>0.02729</td>\n",
       "      <td>0.0</td>\n",
       "      <td>7.07</td>\n",
       "      <td>0</td>\n",
       "      <td>0.469</td>\n",
       "      <td>7.185</td>\n",
       "      <td>61.1</td>\n",
       "      <td>4.9671</td>\n",
       "      <td>2</td>\n",
       "      <td>242.0</td>\n",
       "      <td>17.8</td>\n",
       "      <td>392.83</td>\n",
       "      <td>4.03</td>\n",
       "      <td>34.7</td>\n",
       "    </tr>\n",
       "    <tr>\n",
       "      <th>3</th>\n",
       "      <td>0.03237</td>\n",
       "      <td>0.0</td>\n",
       "      <td>2.18</td>\n",
       "      <td>0</td>\n",
       "      <td>0.458</td>\n",
       "      <td>6.998</td>\n",
       "      <td>45.8</td>\n",
       "      <td>6.0622</td>\n",
       "      <td>3</td>\n",
       "      <td>222.0</td>\n",
       "      <td>18.7</td>\n",
       "      <td>394.63</td>\n",
       "      <td>2.94</td>\n",
       "      <td>33.4</td>\n",
       "    </tr>\n",
       "    <tr>\n",
       "      <th>4</th>\n",
       "      <td>0.06905</td>\n",
       "      <td>0.0</td>\n",
       "      <td>2.18</td>\n",
       "      <td>0</td>\n",
       "      <td>0.458</td>\n",
       "      <td>7.147</td>\n",
       "      <td>54.2</td>\n",
       "      <td>6.0622</td>\n",
       "      <td>3</td>\n",
       "      <td>222.0</td>\n",
       "      <td>18.7</td>\n",
       "      <td>396.90</td>\n",
       "      <td>5.33</td>\n",
       "      <td>36.2</td>\n",
       "    </tr>\n",
       "  </tbody>\n",
       "</table>\n",
       "</div>"
      ],
      "text/plain": [
       "      CRIM    ZN  INDUS  CHAS    NOX     RM   AGE     DIS  RAD    TAX  \\\n",
       "0  0.00632  18.0   2.31     0  0.538  6.575  65.2  4.0900    1  296.0   \n",
       "1  0.02731   0.0   7.07     0  0.469  6.421  78.9  4.9671    2  242.0   \n",
       "2  0.02729   0.0   7.07     0  0.469  7.185  61.1  4.9671    2  242.0   \n",
       "3  0.03237   0.0   2.18     0  0.458  6.998  45.8  6.0622    3  222.0   \n",
       "4  0.06905   0.0   2.18     0  0.458  7.147  54.2  6.0622    3  222.0   \n",
       "\n",
       "   PTRATIO       B  LSTAT  MEDV  \n",
       "0     15.3  396.90   4.98  24.0  \n",
       "1     17.8  396.90   9.14  21.6  \n",
       "2     17.8  392.83   4.03  34.7  \n",
       "3     18.7  394.63   2.94  33.4  \n",
       "4     18.7  396.90   5.33  36.2  "
      ]
     },
     "execution_count": 2,
     "metadata": {},
     "output_type": "execute_result"
    }
   ],
   "source": [
    "# Lectura del dataframe\n",
    "viviendas = pd.read_csv('housing data.csv', header = None)\n",
    "# Establim les columnes (informació al arxiu adjunt)\n",
    "viviendas.columns = ['CRIM', 'ZN', 'INDUS', 'CHAS', 'NOX', 'RM', 'AGE', 'DIS', 'RAD', 'TAX', 'PTRATIO', 'B', 'LSTAT', 'MEDV']\n",
    "\n",
    "viviendas.head()"
   ]
  },
  {
   "cell_type": "markdown",
   "id": "35ccb385",
   "metadata": {},
   "source": [
    "El fitxer .txt proporciona la informació amb el nom de les columnes així com el seu significat:  \n",
    "\n",
    "- **CRIM** Tasa de criminalidad per cápita por ciudad\n",
    "- **ZN** Proporción de suelo residencial zonificado para lotes de más de 25.000 pies cuadrados\n",
    "- **INDUS** Proporción  de acres comerciales no minoristas por ciudad\n",
    "- **CHAS** Variable ficticia Charles River (Si limita con el rio = 1, 0 de lo contrario)\n",
    "- **NOX** Concentración de óxidos nítricos  (partes por 10 millones)\n",
    "- **RM** Promedio de cuartos por vivienda\n",
    "- **AGE** Proporción de unidades ocupadas por sus propietarios construidas antes de 1940\n",
    "- **DIS** Distancias ponderadas  a cinco centros de empleo de Boston\n",
    "- **RAD** Índice  de accesibilidad a vías radiales\n",
    "- **TAX** Tasa de impuesto sobre valor total de la propiedad (por cada $10,000)\n",
    "- **PTRATIO** Ratio alumno-profesor por municipio\n",
    "- **B** Proporción de Población Afroamericana por ciudad.\n",
    "- **LSTAT** Proporción población en situación socioeconomica vulnerable\n",
    "- **MEDV** Valor medio de las viviendas ocupadas por sus propietarios en miles de dólares\n",
    "\n",
    "Tenint en compte l'exercici anterior (M5_T02), podem establir que no hi ha valors NaN, duplicats ni nuls i disposem d'informació del dataframe:  \n",
    "\n",
    "- Les variables CHAD i RAD són categòriques (CHAS binària i RAD és un índex)\n",
    "- Algunes variables tenen outliers: CRIM', 'ZN', 'RM', 'DIS', 'PTRATIO', 'B', 'LSTAT' i 'MEDV'.\n",
    "- Las variables no son Normalmente distribuidas."
   ]
  },
  {
   "cell_type": "markdown",
   "id": "7186c5fb",
   "metadata": {},
   "source": [
    "Dado que las variables numéricas no son Gaussianas, aplicaremos **Robust Scaler** para las que contienen valores atípicos y **MinMax Scaling** para las variables sin valores atípicos.  \n",
    "En cuanto al las variables categóricas (RAD), aplicaremos la Codificación **One-Hot**."
   ]
  },
  {
   "cell_type": "code",
   "execution_count": 3,
   "id": "2b7d48e1",
   "metadata": {},
   "outputs": [
    {
     "data": {
      "text/html": [
       "<div>\n",
       "<style scoped>\n",
       "    .dataframe tbody tr th:only-of-type {\n",
       "        vertical-align: middle;\n",
       "    }\n",
       "\n",
       "    .dataframe tbody tr th {\n",
       "        vertical-align: top;\n",
       "    }\n",
       "\n",
       "    .dataframe thead th {\n",
       "        text-align: right;\n",
       "    }\n",
       "</style>\n",
       "<table border=\"1\" class=\"dataframe\">\n",
       "  <thead>\n",
       "    <tr style=\"text-align: right;\">\n",
       "      <th></th>\n",
       "      <th>CRIM</th>\n",
       "      <th>ZN</th>\n",
       "      <th>INDUS</th>\n",
       "      <th>CHAS</th>\n",
       "      <th>NOX</th>\n",
       "      <th>RM</th>\n",
       "      <th>AGE</th>\n",
       "      <th>DIS</th>\n",
       "      <th>TAX</th>\n",
       "      <th>PTRATIO</th>\n",
       "      <th>...</th>\n",
       "      <th>MEDV</th>\n",
       "      <th>RAD_1</th>\n",
       "      <th>RAD_2</th>\n",
       "      <th>RAD_3</th>\n",
       "      <th>RAD_4</th>\n",
       "      <th>RAD_5</th>\n",
       "      <th>RAD_6</th>\n",
       "      <th>RAD_7</th>\n",
       "      <th>RAD_8</th>\n",
       "      <th>RAD_24</th>\n",
       "    </tr>\n",
       "  </thead>\n",
       "  <tbody>\n",
       "    <tr>\n",
       "      <th>0</th>\n",
       "      <td>0.00632</td>\n",
       "      <td>18.0</td>\n",
       "      <td>2.31</td>\n",
       "      <td>0</td>\n",
       "      <td>0.538</td>\n",
       "      <td>6.575</td>\n",
       "      <td>65.2</td>\n",
       "      <td>4.0900</td>\n",
       "      <td>296.0</td>\n",
       "      <td>15.3</td>\n",
       "      <td>...</td>\n",
       "      <td>24.0</td>\n",
       "      <td>1</td>\n",
       "      <td>0</td>\n",
       "      <td>0</td>\n",
       "      <td>0</td>\n",
       "      <td>0</td>\n",
       "      <td>0</td>\n",
       "      <td>0</td>\n",
       "      <td>0</td>\n",
       "      <td>0</td>\n",
       "    </tr>\n",
       "    <tr>\n",
       "      <th>1</th>\n",
       "      <td>0.02731</td>\n",
       "      <td>0.0</td>\n",
       "      <td>7.07</td>\n",
       "      <td>0</td>\n",
       "      <td>0.469</td>\n",
       "      <td>6.421</td>\n",
       "      <td>78.9</td>\n",
       "      <td>4.9671</td>\n",
       "      <td>242.0</td>\n",
       "      <td>17.8</td>\n",
       "      <td>...</td>\n",
       "      <td>21.6</td>\n",
       "      <td>0</td>\n",
       "      <td>1</td>\n",
       "      <td>0</td>\n",
       "      <td>0</td>\n",
       "      <td>0</td>\n",
       "      <td>0</td>\n",
       "      <td>0</td>\n",
       "      <td>0</td>\n",
       "      <td>0</td>\n",
       "    </tr>\n",
       "    <tr>\n",
       "      <th>2</th>\n",
       "      <td>0.02729</td>\n",
       "      <td>0.0</td>\n",
       "      <td>7.07</td>\n",
       "      <td>0</td>\n",
       "      <td>0.469</td>\n",
       "      <td>7.185</td>\n",
       "      <td>61.1</td>\n",
       "      <td>4.9671</td>\n",
       "      <td>242.0</td>\n",
       "      <td>17.8</td>\n",
       "      <td>...</td>\n",
       "      <td>34.7</td>\n",
       "      <td>0</td>\n",
       "      <td>1</td>\n",
       "      <td>0</td>\n",
       "      <td>0</td>\n",
       "      <td>0</td>\n",
       "      <td>0</td>\n",
       "      <td>0</td>\n",
       "      <td>0</td>\n",
       "      <td>0</td>\n",
       "    </tr>\n",
       "    <tr>\n",
       "      <th>3</th>\n",
       "      <td>0.03237</td>\n",
       "      <td>0.0</td>\n",
       "      <td>2.18</td>\n",
       "      <td>0</td>\n",
       "      <td>0.458</td>\n",
       "      <td>6.998</td>\n",
       "      <td>45.8</td>\n",
       "      <td>6.0622</td>\n",
       "      <td>222.0</td>\n",
       "      <td>18.7</td>\n",
       "      <td>...</td>\n",
       "      <td>33.4</td>\n",
       "      <td>0</td>\n",
       "      <td>0</td>\n",
       "      <td>1</td>\n",
       "      <td>0</td>\n",
       "      <td>0</td>\n",
       "      <td>0</td>\n",
       "      <td>0</td>\n",
       "      <td>0</td>\n",
       "      <td>0</td>\n",
       "    </tr>\n",
       "    <tr>\n",
       "      <th>4</th>\n",
       "      <td>0.06905</td>\n",
       "      <td>0.0</td>\n",
       "      <td>2.18</td>\n",
       "      <td>0</td>\n",
       "      <td>0.458</td>\n",
       "      <td>7.147</td>\n",
       "      <td>54.2</td>\n",
       "      <td>6.0622</td>\n",
       "      <td>222.0</td>\n",
       "      <td>18.7</td>\n",
       "      <td>...</td>\n",
       "      <td>36.2</td>\n",
       "      <td>0</td>\n",
       "      <td>0</td>\n",
       "      <td>1</td>\n",
       "      <td>0</td>\n",
       "      <td>0</td>\n",
       "      <td>0</td>\n",
       "      <td>0</td>\n",
       "      <td>0</td>\n",
       "      <td>0</td>\n",
       "    </tr>\n",
       "  </tbody>\n",
       "</table>\n",
       "<p>5 rows × 22 columns</p>\n",
       "</div>"
      ],
      "text/plain": [
       "      CRIM    ZN  INDUS  CHAS    NOX     RM   AGE     DIS    TAX  PTRATIO  \\\n",
       "0  0.00632  18.0   2.31     0  0.538  6.575  65.2  4.0900  296.0     15.3   \n",
       "1  0.02731   0.0   7.07     0  0.469  6.421  78.9  4.9671  242.0     17.8   \n",
       "2  0.02729   0.0   7.07     0  0.469  7.185  61.1  4.9671  242.0     17.8   \n",
       "3  0.03237   0.0   2.18     0  0.458  6.998  45.8  6.0622  222.0     18.7   \n",
       "4  0.06905   0.0   2.18     0  0.458  7.147  54.2  6.0622  222.0     18.7   \n",
       "\n",
       "   ...  MEDV  RAD_1  RAD_2  RAD_3  RAD_4  RAD_5  RAD_6  RAD_7  RAD_8  RAD_24  \n",
       "0  ...  24.0      1      0      0      0      0      0      0      0       0  \n",
       "1  ...  21.6      0      1      0      0      0      0      0      0       0  \n",
       "2  ...  34.7      0      1      0      0      0      0      0      0       0  \n",
       "3  ...  33.4      0      0      1      0      0      0      0      0       0  \n",
       "4  ...  36.2      0      0      1      0      0      0      0      0       0  \n",
       "\n",
       "[5 rows x 22 columns]"
      ]
     },
     "execution_count": 3,
     "metadata": {},
     "output_type": "execute_result"
    }
   ],
   "source": [
    "viviendas = pd.get_dummies(data = viviendas, columns = ['RAD'])\n",
    "viviendas.head()"
   ]
  },
  {
   "cell_type": "code",
   "execution_count": 4,
   "id": "5e80d3f1",
   "metadata": {},
   "outputs": [
    {
     "data": {
      "text/html": [
       "<div>\n",
       "<style scoped>\n",
       "    .dataframe tbody tr th:only-of-type {\n",
       "        vertical-align: middle;\n",
       "    }\n",
       "\n",
       "    .dataframe tbody tr th {\n",
       "        vertical-align: top;\n",
       "    }\n",
       "\n",
       "    .dataframe thead th {\n",
       "        text-align: right;\n",
       "    }\n",
       "</style>\n",
       "<table border=\"1\" class=\"dataframe\">\n",
       "  <thead>\n",
       "    <tr style=\"text-align: right;\">\n",
       "      <th></th>\n",
       "      <th>CRIM</th>\n",
       "      <th>ZN</th>\n",
       "      <th>INDUS</th>\n",
       "      <th>CHAS</th>\n",
       "      <th>NOX</th>\n",
       "      <th>RM</th>\n",
       "      <th>AGE</th>\n",
       "      <th>DIS</th>\n",
       "      <th>TAX</th>\n",
       "      <th>PTRATIO</th>\n",
       "      <th>...</th>\n",
       "      <th>MEDV</th>\n",
       "      <th>RAD_1</th>\n",
       "      <th>RAD_2</th>\n",
       "      <th>RAD_3</th>\n",
       "      <th>RAD_4</th>\n",
       "      <th>RAD_5</th>\n",
       "      <th>RAD_6</th>\n",
       "      <th>RAD_7</th>\n",
       "      <th>RAD_8</th>\n",
       "      <th>RAD_24</th>\n",
       "    </tr>\n",
       "  </thead>\n",
       "  <tbody>\n",
       "    <tr>\n",
       "      <th>0</th>\n",
       "      <td>-0.069593</td>\n",
       "      <td>1.44</td>\n",
       "      <td>2.31</td>\n",
       "      <td>0</td>\n",
       "      <td>0.538</td>\n",
       "      <td>0.496612</td>\n",
       "      <td>65.2</td>\n",
       "      <td>0.285777</td>\n",
       "      <td>296.0</td>\n",
       "      <td>-1.339286</td>\n",
       "      <td>...</td>\n",
       "      <td>24.0</td>\n",
       "      <td>1</td>\n",
       "      <td>0</td>\n",
       "      <td>0</td>\n",
       "      <td>0</td>\n",
       "      <td>0</td>\n",
       "      <td>0</td>\n",
       "      <td>0</td>\n",
       "      <td>0</td>\n",
       "      <td>0</td>\n",
       "    </tr>\n",
       "    <tr>\n",
       "      <th>1</th>\n",
       "      <td>-0.063755</td>\n",
       "      <td>0.00</td>\n",
       "      <td>7.07</td>\n",
       "      <td>0</td>\n",
       "      <td>0.469</td>\n",
       "      <td>0.287940</td>\n",
       "      <td>78.9</td>\n",
       "      <td>0.569789</td>\n",
       "      <td>242.0</td>\n",
       "      <td>-0.446429</td>\n",
       "      <td>...</td>\n",
       "      <td>21.6</td>\n",
       "      <td>0</td>\n",
       "      <td>1</td>\n",
       "      <td>0</td>\n",
       "      <td>0</td>\n",
       "      <td>0</td>\n",
       "      <td>0</td>\n",
       "      <td>0</td>\n",
       "      <td>0</td>\n",
       "      <td>0</td>\n",
       "    </tr>\n",
       "    <tr>\n",
       "      <th>2</th>\n",
       "      <td>-0.063760</td>\n",
       "      <td>0.00</td>\n",
       "      <td>7.07</td>\n",
       "      <td>0</td>\n",
       "      <td>0.469</td>\n",
       "      <td>1.323171</td>\n",
       "      <td>61.1</td>\n",
       "      <td>0.569789</td>\n",
       "      <td>242.0</td>\n",
       "      <td>-0.446429</td>\n",
       "      <td>...</td>\n",
       "      <td>34.7</td>\n",
       "      <td>0</td>\n",
       "      <td>1</td>\n",
       "      <td>0</td>\n",
       "      <td>0</td>\n",
       "      <td>0</td>\n",
       "      <td>0</td>\n",
       "      <td>0</td>\n",
       "      <td>0</td>\n",
       "      <td>0</td>\n",
       "    </tr>\n",
       "    <tr>\n",
       "      <th>3</th>\n",
       "      <td>-0.062347</td>\n",
       "      <td>0.00</td>\n",
       "      <td>2.18</td>\n",
       "      <td>0</td>\n",
       "      <td>0.458</td>\n",
       "      <td>1.069783</td>\n",
       "      <td>45.8</td>\n",
       "      <td>0.924391</td>\n",
       "      <td>222.0</td>\n",
       "      <td>-0.125000</td>\n",
       "      <td>...</td>\n",
       "      <td>33.4</td>\n",
       "      <td>0</td>\n",
       "      <td>0</td>\n",
       "      <td>1</td>\n",
       "      <td>0</td>\n",
       "      <td>0</td>\n",
       "      <td>0</td>\n",
       "      <td>0</td>\n",
       "      <td>0</td>\n",
       "      <td>0</td>\n",
       "    </tr>\n",
       "    <tr>\n",
       "      <th>4</th>\n",
       "      <td>-0.052144</td>\n",
       "      <td>0.00</td>\n",
       "      <td>2.18</td>\n",
       "      <td>0</td>\n",
       "      <td>0.458</td>\n",
       "      <td>1.271680</td>\n",
       "      <td>54.2</td>\n",
       "      <td>0.924391</td>\n",
       "      <td>222.0</td>\n",
       "      <td>-0.125000</td>\n",
       "      <td>...</td>\n",
       "      <td>36.2</td>\n",
       "      <td>0</td>\n",
       "      <td>0</td>\n",
       "      <td>1</td>\n",
       "      <td>0</td>\n",
       "      <td>0</td>\n",
       "      <td>0</td>\n",
       "      <td>0</td>\n",
       "      <td>0</td>\n",
       "      <td>0</td>\n",
       "    </tr>\n",
       "  </tbody>\n",
       "</table>\n",
       "<p>5 rows × 22 columns</p>\n",
       "</div>"
      ],
      "text/plain": [
       "       CRIM    ZN  INDUS  CHAS    NOX        RM   AGE       DIS    TAX  \\\n",
       "0 -0.069593  1.44   2.31     0  0.538  0.496612  65.2  0.285777  296.0   \n",
       "1 -0.063755  0.00   7.07     0  0.469  0.287940  78.9  0.569789  242.0   \n",
       "2 -0.063760  0.00   7.07     0  0.469  1.323171  61.1  0.569789  242.0   \n",
       "3 -0.062347  0.00   2.18     0  0.458  1.069783  45.8  0.924391  222.0   \n",
       "4 -0.052144  0.00   2.18     0  0.458  1.271680  54.2  0.924391  222.0   \n",
       "\n",
       "    PTRATIO  ...  MEDV  RAD_1  RAD_2  RAD_3  RAD_4  RAD_5  RAD_6  RAD_7  \\\n",
       "0 -1.339286  ...  24.0      1      0      0      0      0      0      0   \n",
       "1 -0.446429  ...  21.6      0      1      0      0      0      0      0   \n",
       "2 -0.446429  ...  34.7      0      1      0      0      0      0      0   \n",
       "3 -0.125000  ...  33.4      0      0      1      0      0      0      0   \n",
       "4 -0.125000  ...  36.2      0      0      1      0      0      0      0   \n",
       "\n",
       "   RAD_8  RAD_24  \n",
       "0      0       0  \n",
       "1      0       0  \n",
       "2      0       0  \n",
       "3      0       0  \n",
       "4      0       0  \n",
       "\n",
       "[5 rows x 22 columns]"
      ]
     },
     "execution_count": 4,
     "metadata": {},
     "output_type": "execute_result"
    }
   ],
   "source": [
    "from sklearn import preprocessing\n",
    "from sklearn.preprocessing import RobustScaler\n",
    "\n",
    "# Copia de la BD para tener las transformaciones:\n",
    "viviendas_transf = viviendas.copy()\n",
    "\n",
    "col_RS = ['CRIM','ZN','RM','DIS','PTRATIO', 'B','LSTAT']\n",
    "\n",
    "scaler = preprocessing.RobustScaler().fit(viviendas_transf[col_RS])\n",
    "viviendas_transf[col_RS] = scaler.transform(viviendas_transf[col_RS])\n",
    "viviendas_transf.head()\n"
   ]
  },
  {
   "cell_type": "code",
   "execution_count": 5,
   "id": "1438de8f",
   "metadata": {},
   "outputs": [
    {
     "data": {
      "text/html": [
       "<div>\n",
       "<style scoped>\n",
       "    .dataframe tbody tr th:only-of-type {\n",
       "        vertical-align: middle;\n",
       "    }\n",
       "\n",
       "    .dataframe tbody tr th {\n",
       "        vertical-align: top;\n",
       "    }\n",
       "\n",
       "    .dataframe thead th {\n",
       "        text-align: right;\n",
       "    }\n",
       "</style>\n",
       "<table border=\"1\" class=\"dataframe\">\n",
       "  <thead>\n",
       "    <tr style=\"text-align: right;\">\n",
       "      <th></th>\n",
       "      <th>CRIM</th>\n",
       "      <th>ZN</th>\n",
       "      <th>INDUS</th>\n",
       "      <th>CHAS</th>\n",
       "      <th>NOX</th>\n",
       "      <th>RM</th>\n",
       "      <th>AGE</th>\n",
       "      <th>DIS</th>\n",
       "      <th>TAX</th>\n",
       "      <th>PTRATIO</th>\n",
       "      <th>...</th>\n",
       "      <th>MEDV</th>\n",
       "      <th>RAD_1</th>\n",
       "      <th>RAD_2</th>\n",
       "      <th>RAD_3</th>\n",
       "      <th>RAD_4</th>\n",
       "      <th>RAD_5</th>\n",
       "      <th>RAD_6</th>\n",
       "      <th>RAD_7</th>\n",
       "      <th>RAD_8</th>\n",
       "      <th>RAD_24</th>\n",
       "    </tr>\n",
       "  </thead>\n",
       "  <tbody>\n",
       "    <tr>\n",
       "      <th>0</th>\n",
       "      <td>-0.069593</td>\n",
       "      <td>1.44</td>\n",
       "      <td>0.067815</td>\n",
       "      <td>0</td>\n",
       "      <td>0.314815</td>\n",
       "      <td>0.496612</td>\n",
       "      <td>0.641607</td>\n",
       "      <td>0.285777</td>\n",
       "      <td>0.208015</td>\n",
       "      <td>0.287234</td>\n",
       "      <td>...</td>\n",
       "      <td>24.0</td>\n",
       "      <td>1</td>\n",
       "      <td>0</td>\n",
       "      <td>0</td>\n",
       "      <td>0</td>\n",
       "      <td>0</td>\n",
       "      <td>0</td>\n",
       "      <td>0</td>\n",
       "      <td>0</td>\n",
       "      <td>0</td>\n",
       "    </tr>\n",
       "    <tr>\n",
       "      <th>1</th>\n",
       "      <td>-0.063755</td>\n",
       "      <td>0.00</td>\n",
       "      <td>0.242302</td>\n",
       "      <td>0</td>\n",
       "      <td>0.172840</td>\n",
       "      <td>0.287940</td>\n",
       "      <td>0.782698</td>\n",
       "      <td>0.569789</td>\n",
       "      <td>0.104962</td>\n",
       "      <td>0.553191</td>\n",
       "      <td>...</td>\n",
       "      <td>21.6</td>\n",
       "      <td>0</td>\n",
       "      <td>1</td>\n",
       "      <td>0</td>\n",
       "      <td>0</td>\n",
       "      <td>0</td>\n",
       "      <td>0</td>\n",
       "      <td>0</td>\n",
       "      <td>0</td>\n",
       "      <td>0</td>\n",
       "    </tr>\n",
       "    <tr>\n",
       "      <th>2</th>\n",
       "      <td>-0.063760</td>\n",
       "      <td>0.00</td>\n",
       "      <td>0.242302</td>\n",
       "      <td>0</td>\n",
       "      <td>0.172840</td>\n",
       "      <td>1.323171</td>\n",
       "      <td>0.599382</td>\n",
       "      <td>0.569789</td>\n",
       "      <td>0.104962</td>\n",
       "      <td>0.553191</td>\n",
       "      <td>...</td>\n",
       "      <td>34.7</td>\n",
       "      <td>0</td>\n",
       "      <td>1</td>\n",
       "      <td>0</td>\n",
       "      <td>0</td>\n",
       "      <td>0</td>\n",
       "      <td>0</td>\n",
       "      <td>0</td>\n",
       "      <td>0</td>\n",
       "      <td>0</td>\n",
       "    </tr>\n",
       "    <tr>\n",
       "      <th>3</th>\n",
       "      <td>-0.062347</td>\n",
       "      <td>0.00</td>\n",
       "      <td>0.063050</td>\n",
       "      <td>0</td>\n",
       "      <td>0.150206</td>\n",
       "      <td>1.069783</td>\n",
       "      <td>0.441813</td>\n",
       "      <td>0.924391</td>\n",
       "      <td>0.066794</td>\n",
       "      <td>0.648936</td>\n",
       "      <td>...</td>\n",
       "      <td>33.4</td>\n",
       "      <td>0</td>\n",
       "      <td>0</td>\n",
       "      <td>1</td>\n",
       "      <td>0</td>\n",
       "      <td>0</td>\n",
       "      <td>0</td>\n",
       "      <td>0</td>\n",
       "      <td>0</td>\n",
       "      <td>0</td>\n",
       "    </tr>\n",
       "    <tr>\n",
       "      <th>4</th>\n",
       "      <td>-0.052144</td>\n",
       "      <td>0.00</td>\n",
       "      <td>0.063050</td>\n",
       "      <td>0</td>\n",
       "      <td>0.150206</td>\n",
       "      <td>1.271680</td>\n",
       "      <td>0.528321</td>\n",
       "      <td>0.924391</td>\n",
       "      <td>0.066794</td>\n",
       "      <td>0.648936</td>\n",
       "      <td>...</td>\n",
       "      <td>36.2</td>\n",
       "      <td>0</td>\n",
       "      <td>0</td>\n",
       "      <td>1</td>\n",
       "      <td>0</td>\n",
       "      <td>0</td>\n",
       "      <td>0</td>\n",
       "      <td>0</td>\n",
       "      <td>0</td>\n",
       "      <td>0</td>\n",
       "    </tr>\n",
       "  </tbody>\n",
       "</table>\n",
       "<p>5 rows × 22 columns</p>\n",
       "</div>"
      ],
      "text/plain": [
       "       CRIM    ZN     INDUS  CHAS       NOX        RM       AGE       DIS  \\\n",
       "0 -0.069593  1.44  0.067815     0  0.314815  0.496612  0.641607  0.285777   \n",
       "1 -0.063755  0.00  0.242302     0  0.172840  0.287940  0.782698  0.569789   \n",
       "2 -0.063760  0.00  0.242302     0  0.172840  1.323171  0.599382  0.569789   \n",
       "3 -0.062347  0.00  0.063050     0  0.150206  1.069783  0.441813  0.924391   \n",
       "4 -0.052144  0.00  0.063050     0  0.150206  1.271680  0.528321  0.924391   \n",
       "\n",
       "        TAX   PTRATIO  ...  MEDV  RAD_1  RAD_2  RAD_3  RAD_4  RAD_5  RAD_6  \\\n",
       "0  0.208015  0.287234  ...  24.0      1      0      0      0      0      0   \n",
       "1  0.104962  0.553191  ...  21.6      0      1      0      0      0      0   \n",
       "2  0.104962  0.553191  ...  34.7      0      1      0      0      0      0   \n",
       "3  0.066794  0.648936  ...  33.4      0      0      1      0      0      0   \n",
       "4  0.066794  0.648936  ...  36.2      0      0      1      0      0      0   \n",
       "\n",
       "   RAD_7  RAD_8  RAD_24  \n",
       "0      0      0       0  \n",
       "1      0      0       0  \n",
       "2      0      0       0  \n",
       "3      0      0       0  \n",
       "4      0      0       0  \n",
       "\n",
       "[5 rows x 22 columns]"
      ]
     },
     "execution_count": 5,
     "metadata": {},
     "output_type": "execute_result"
    }
   ],
   "source": [
    "from sklearn.preprocessing import MinMaxScaler\n",
    "\n",
    "col_MMS = ['INDUS', 'NOX', 'AGE', 'TAX', 'PTRATIO']\n",
    "\n",
    "scaler2 = preprocessing.MinMaxScaler().fit(viviendas_transf[col_MMS])\n",
    "viviendas_transf[col_MMS] = scaler2.transform(viviendas_transf[col_MMS])\n",
    "viviendas_transf.head()"
   ]
  },
  {
   "cell_type": "code",
   "execution_count": 6,
   "id": "4a4dfad1",
   "metadata": {},
   "outputs": [
    {
     "data": {
      "text/html": [
       "<div>\n",
       "<style scoped>\n",
       "    .dataframe tbody tr th:only-of-type {\n",
       "        vertical-align: middle;\n",
       "    }\n",
       "\n",
       "    .dataframe tbody tr th {\n",
       "        vertical-align: top;\n",
       "    }\n",
       "\n",
       "    .dataframe thead th {\n",
       "        text-align: right;\n",
       "    }\n",
       "</style>\n",
       "<table border=\"1\" class=\"dataframe\">\n",
       "  <thead>\n",
       "    <tr style=\"text-align: right;\">\n",
       "      <th></th>\n",
       "      <th>CRIM</th>\n",
       "      <th>ZN</th>\n",
       "      <th>INDUS</th>\n",
       "      <th>CHAS</th>\n",
       "      <th>NOX</th>\n",
       "      <th>RM</th>\n",
       "      <th>AGE</th>\n",
       "      <th>DIS</th>\n",
       "      <th>TAX</th>\n",
       "      <th>PTRATIO</th>\n",
       "      <th>B</th>\n",
       "      <th>LSTAT</th>\n",
       "      <th>MEDV</th>\n",
       "      <th>RAD_1</th>\n",
       "      <th>RAD_2</th>\n",
       "      <th>RAD_3</th>\n",
       "      <th>RAD_4</th>\n",
       "      <th>RAD_5</th>\n",
       "      <th>RAD_6</th>\n",
       "      <th>RAD_7</th>\n",
       "      <th>RAD_8</th>\n",
       "      <th>RAD_24</th>\n",
       "    </tr>\n",
       "  </thead>\n",
       "  <tbody>\n",
       "    <tr>\n",
       "      <th>0</th>\n",
       "      <td>-0.069593</td>\n",
       "      <td>1.44</td>\n",
       "      <td>0.067815</td>\n",
       "      <td>0</td>\n",
       "      <td>0.314815</td>\n",
       "      <td>0.496612</td>\n",
       "      <td>0.641607</td>\n",
       "      <td>0.285777</td>\n",
       "      <td>0.208015</td>\n",
       "      <td>0.287234</td>\n",
       "      <td>0.261902</td>\n",
       "      <td>-0.637681</td>\n",
       "      <td>24.0</td>\n",
       "      <td>1</td>\n",
       "      <td>0</td>\n",
       "      <td>0</td>\n",
       "      <td>0</td>\n",
       "      <td>0</td>\n",
       "      <td>0</td>\n",
       "      <td>0</td>\n",
       "      <td>0</td>\n",
       "      <td>0</td>\n",
       "    </tr>\n",
       "    <tr>\n",
       "      <th>1</th>\n",
       "      <td>-0.063755</td>\n",
       "      <td>0.00</td>\n",
       "      <td>0.242302</td>\n",
       "      <td>0</td>\n",
       "      <td>0.172840</td>\n",
       "      <td>0.287940</td>\n",
       "      <td>0.782698</td>\n",
       "      <td>0.569789</td>\n",
       "      <td>0.104962</td>\n",
       "      <td>0.553191</td>\n",
       "      <td>0.261902</td>\n",
       "      <td>-0.221889</td>\n",
       "      <td>21.6</td>\n",
       "      <td>0</td>\n",
       "      <td>1</td>\n",
       "      <td>0</td>\n",
       "      <td>0</td>\n",
       "      <td>0</td>\n",
       "      <td>0</td>\n",
       "      <td>0</td>\n",
       "      <td>0</td>\n",
       "      <td>0</td>\n",
       "    </tr>\n",
       "    <tr>\n",
       "      <th>2</th>\n",
       "      <td>-0.063760</td>\n",
       "      <td>0.00</td>\n",
       "      <td>0.242302</td>\n",
       "      <td>0</td>\n",
       "      <td>0.172840</td>\n",
       "      <td>1.323171</td>\n",
       "      <td>0.599382</td>\n",
       "      <td>0.569789</td>\n",
       "      <td>0.104962</td>\n",
       "      <td>0.553191</td>\n",
       "      <td>0.066675</td>\n",
       "      <td>-0.732634</td>\n",
       "      <td>34.7</td>\n",
       "      <td>0</td>\n",
       "      <td>1</td>\n",
       "      <td>0</td>\n",
       "      <td>0</td>\n",
       "      <td>0</td>\n",
       "      <td>0</td>\n",
       "      <td>0</td>\n",
       "      <td>0</td>\n",
       "      <td>0</td>\n",
       "    </tr>\n",
       "    <tr>\n",
       "      <th>3</th>\n",
       "      <td>-0.062347</td>\n",
       "      <td>0.00</td>\n",
       "      <td>0.063050</td>\n",
       "      <td>0</td>\n",
       "      <td>0.150206</td>\n",
       "      <td>1.069783</td>\n",
       "      <td>0.441813</td>\n",
       "      <td>0.924391</td>\n",
       "      <td>0.066794</td>\n",
       "      <td>0.648936</td>\n",
       "      <td>0.153016</td>\n",
       "      <td>-0.841579</td>\n",
       "      <td>33.4</td>\n",
       "      <td>0</td>\n",
       "      <td>0</td>\n",
       "      <td>1</td>\n",
       "      <td>0</td>\n",
       "      <td>0</td>\n",
       "      <td>0</td>\n",
       "      <td>0</td>\n",
       "      <td>0</td>\n",
       "      <td>0</td>\n",
       "    </tr>\n",
       "    <tr>\n",
       "      <th>4</th>\n",
       "      <td>-0.052144</td>\n",
       "      <td>0.00</td>\n",
       "      <td>0.063050</td>\n",
       "      <td>0</td>\n",
       "      <td>0.150206</td>\n",
       "      <td>1.271680</td>\n",
       "      <td>0.528321</td>\n",
       "      <td>0.924391</td>\n",
       "      <td>0.066794</td>\n",
       "      <td>0.648936</td>\n",
       "      <td>0.261902</td>\n",
       "      <td>-0.602699</td>\n",
       "      <td>36.2</td>\n",
       "      <td>0</td>\n",
       "      <td>0</td>\n",
       "      <td>1</td>\n",
       "      <td>0</td>\n",
       "      <td>0</td>\n",
       "      <td>0</td>\n",
       "      <td>0</td>\n",
       "      <td>0</td>\n",
       "      <td>0</td>\n",
       "    </tr>\n",
       "  </tbody>\n",
       "</table>\n",
       "</div>"
      ],
      "text/plain": [
       "       CRIM    ZN     INDUS  CHAS       NOX        RM       AGE       DIS  \\\n",
       "0 -0.069593  1.44  0.067815     0  0.314815  0.496612  0.641607  0.285777   \n",
       "1 -0.063755  0.00  0.242302     0  0.172840  0.287940  0.782698  0.569789   \n",
       "2 -0.063760  0.00  0.242302     0  0.172840  1.323171  0.599382  0.569789   \n",
       "3 -0.062347  0.00  0.063050     0  0.150206  1.069783  0.441813  0.924391   \n",
       "4 -0.052144  0.00  0.063050     0  0.150206  1.271680  0.528321  0.924391   \n",
       "\n",
       "        TAX   PTRATIO         B     LSTAT  MEDV  RAD_1  RAD_2  RAD_3  RAD_4  \\\n",
       "0  0.208015  0.287234  0.261902 -0.637681  24.0      1      0      0      0   \n",
       "1  0.104962  0.553191  0.261902 -0.221889  21.6      0      1      0      0   \n",
       "2  0.104962  0.553191  0.066675 -0.732634  34.7      0      1      0      0   \n",
       "3  0.066794  0.648936  0.153016 -0.841579  33.4      0      0      1      0   \n",
       "4  0.066794  0.648936  0.261902 -0.602699  36.2      0      0      1      0   \n",
       "\n",
       "   RAD_5  RAD_6  RAD_7  RAD_8  RAD_24  \n",
       "0      0      0      0      0       0  \n",
       "1      0      0      0      0       0  \n",
       "2      0      0      0      0       0  \n",
       "3      0      0      0      0       0  \n",
       "4      0      0      0      0       0  "
      ]
     },
     "execution_count": 6,
     "metadata": {},
     "output_type": "execute_result"
    }
   ],
   "source": [
    "pd.options.display.max_columns= 25\n",
    "viviendas_transf.head()"
   ]
  },
  {
   "cell_type": "code",
   "execution_count": 7,
   "id": "42c30bf0",
   "metadata": {},
   "outputs": [],
   "source": [
    "# Separo la variable target (MEDV) para el eje y el resto para el X\n",
    "\n",
    "X = viviendas_transf.drop(['MEDV'],axis=1)\n",
    "y = viviendas_transf['MEDV']"
   ]
  },
  {
   "cell_type": "code",
   "execution_count": 8,
   "id": "0a3fdaad",
   "metadata": {},
   "outputs": [],
   "source": [
    "# Los dos conjuntos anteriores se separan en train y test. (Train para ajustar modelo y test para aplicarlo).\n",
    "from sklearn.model_selection import train_test_split\n",
    "\n",
    "# 80% para train / 20% para test:\n",
    "X_train, X_test, y_train, y_test = train_test_split(X, y, test_size=0.2, random_state=77)"
   ]
  },
  {
   "cell_type": "code",
   "execution_count": 9,
   "id": "5ede5f30",
   "metadata": {},
   "outputs": [
    {
     "name": "stdout",
     "output_type": "stream",
     "text": [
      "True\n",
      "True\n"
     ]
    }
   ],
   "source": [
    "# Comprobamos que ambos test / train tienen el mismo tamaño:\n",
    "\n",
    "print(len(X_train) == len(y_train))\n",
    "print(len(X_test) == len(y_test))"
   ]
  },
  {
   "cell_type": "markdown",
   "id": "8c7174f0",
   "metadata": {},
   "source": []
  },
  {
   "cell_type": "markdown",
   "id": "5e7426b8",
   "metadata": {},
   "source": [
    "En primer lugar miramos si existe multicolinealidad. Cuando existe una correlación demasiado alta entre las variable, puede afectar al resultado de los análisis.  \n",
    "Las variables pueden ser redundantes."
   ]
  },
  {
   "cell_type": "code",
   "execution_count": 10,
   "id": "67bbb42b",
   "metadata": {},
   "outputs": [
    {
     "name": "stdout",
     "output_type": "stream",
     "text": [
      "[1.81186747861482, 2.4961842211294605, 4.3704710743014585, 1.1018427797894328, 4.6729064695329745, 2.0075931394301687, 3.177556368310554, 4.143582866154159, 9.876852501300885, 2.2426831723843783, 1.3525155027083597, 2.997620158154093, 2.8147469561478062, 2.848488413102465, 3.669184329443229, 11.210411484630638, 9.551398988262163, 2.9182863307699956, 2.541976791414778, 3.0548293051765048, 28.63938524110811]\n"
     ]
    }
   ],
   "source": [
    "import statsmodels.api as sm\n",
    "from statsmodels.stats.outliers_influence import variance_inflation_factor\n",
    "\n",
    "# Ajustamos un modelo lineal a los datos.\n",
    "# OLS es método para ajustar un modelo lineal mediante la minimización de la suma de los cuadrados de los residuos.\n",
    "\n",
    "modelo = sm.OLS(X,y)\n",
    "\n",
    "# calculo del Factor de inflación de la varianza\n",
    "\n",
    "VIF_columnas = []\n",
    "for i in range(X.shape[1]):\n",
    "    VIF_columnas.append(variance_inflation_factor(X, i))\n",
    "    \n",
    "print(VIF_columnas)\n",
    "\n",
    "# X.shape[0] devuelve el número de filas de la matriz y X.shape[1] devuelve el número de columnas\n"
   ]
  },
  {
   "cell_type": "markdown",
   "id": "ead0eb64",
   "metadata": {},
   "source": [
    "Podemos apreciar que existen algunas columnas con un alto grado de multicolinealidad, lo que podría afectar negativamente a los análisis estadísticos.  \n",
    "(Se ha de tener en cuenta para los resultados de las predicciones)"
   ]
  },
  {
   "cell_type": "markdown",
   "id": "4779e375",
   "metadata": {},
   "source": [
    "Apliquem diferents models de regressió:  "
   ]
  },
  {
   "cell_type": "markdown",
   "id": "7b916bf2",
   "metadata": {},
   "source": [
    "**Linear regression:**"
   ]
  },
  {
   "cell_type": "code",
   "execution_count": 11,
   "id": "7bf2e160",
   "metadata": {},
   "outputs": [
    {
     "name": "stdout",
     "output_type": "stream",
     "text": [
      "Precisión del train:  0.7482850019433813\n",
      "Precisión del test:  0.738409918092009\n"
     ]
    }
   ],
   "source": [
    "from sklearn.linear_model import LinearRegression\n",
    "from sklearn.metrics import r2_score\n",
    "from sklearn.metrics import mean_squared_error\n",
    "\n",
    "\n",
    "# Aplicamos Regresión Lineal\n",
    "modelo_RL = LinearRegression()\n",
    "\n",
    "#Entrenamiento y predicción\n",
    "modelo_RL.fit(X_train, y_train)\n",
    "prediccion_RL_y = modelo_RL.predict(X_test)\n",
    "\n",
    "print('Precisión del train: ', modelo_RL.score(X_train, y_train))\n",
    "print('Precisión del test: ',  modelo_RL.score(X_test, y_test))\n",
    "# print('Precisión de modelo: ', r2_score(y, modelo_RL.predict(X)))"
   ]
  },
  {
   "cell_type": "markdown",
   "id": "b6c99fd2",
   "metadata": {},
   "source": [
    "La precisión es menor en el Test que en el Train"
   ]
  },
  {
   "cell_type": "code",
   "execution_count": 12,
   "id": "f5b67c34",
   "metadata": {},
   "outputs": [
    {
     "name": "stdout",
     "output_type": "stream",
     "text": [
      "Coeficiente de determinación R2:  0.738409918092009\n",
      "Error cuadrático medio:  18.136612889846443\n"
     ]
    }
   ],
   "source": [
    "# Coeficiente de determinación R2 y el error cuadrático medio (MSE) entre las predicciones y los valores reales.\n",
    "\n",
    "r2_RL = r2_score(y_test, prediccion_RL_y)\n",
    "mse_RL = mean_squared_error(y_test, prediccion_RL_y)\n",
    "print('Coeficiente de determinación R2: ', r2_RL)\n",
    "print('Error cuadrático medio: ', mse_RL)"
   ]
  },
  {
   "cell_type": "code",
   "execution_count": 13,
   "id": "08c95fd0",
   "metadata": {},
   "outputs": [
    {
     "data": {
      "image/png": "[encoded data removed]",
      "text/plain": [
       "<Figure size 640x480 with 1 Axes>"
      ]
     },
     "metadata": {},
     "output_type": "display_data"
    }
   ],
   "source": [
    "# scatter de train (verde)\n",
    "plt.scatter(y_train, modelo_RL.predict(X_train), c = 'green', label='Actual')\n",
    "plt.scatter(y_test,prediccion_RL_y, c='blue', label='Predicción')\n",
    "\n",
    "\n",
    "plt.xlabel(\"Precios\")\n",
    "plt.ylabel(\"Predicción de Precios\")\n",
    "plt.title(\"Precios vs Predicción de Precios\")\n",
    "plt.legend()\n",
    "plt.show()"
   ]
  },
  {
   "cell_type": "markdown",
   "id": "1f04a6b6",
   "metadata": {},
   "source": [
    "**Support Vector Machines (SVM)**"
   ]
  },
  {
   "cell_type": "code",
   "execution_count": 14,
   "id": "939538ce",
   "metadata": {},
   "outputs": [
    {
     "name": "stdout",
     "output_type": "stream",
     "text": [
      "Precisión del train:  0.5964711404869724\n",
      "Precisión del test:  0.6688063250800098\n"
     ]
    }
   ],
   "source": [
    "from sklearn.svm import SVR\n",
    "modelo_SVM = SVR()\n",
    "\n",
    "modelo_SVM.fit(X_train, y_train)\n",
    "prediccion_SVM_y = modelo_SVM.predict(X_test)\n",
    "\n",
    "print('Precisión del train: ', modelo_SVM.score(X_train, y_train))\n",
    "print(\"Precisión del test: \", modelo_SVM.score(X_test, y_test))\n",
    "# print(\"Precisión del modelo: \", r2_score(y, modelo_SVM.predict(X)))"
   ]
  },
  {
   "cell_type": "code",
   "execution_count": 15,
   "id": "62e156c0",
   "metadata": {},
   "outputs": [
    {
     "name": "stdout",
     "output_type": "stream",
     "text": [
      "Coeficiente de determinación R2:  0.6688063250800098\n",
      "Error cuadrático medio:  22.962382326491458\n"
     ]
    }
   ],
   "source": [
    "r2_SVM = r2_score(y_test, prediccion_SVM_y)\n",
    "mse_SVM = mean_squared_error(y_test, prediccion_SVM_y)\n",
    "print('Coeficiente de determinación R2: ', r2_SVM)\n",
    "print('Error cuadrático medio: ', mse_SVM)"
   ]
  },
  {
   "cell_type": "code",
   "execution_count": 16,
   "id": "97c8b894",
   "metadata": {},
   "outputs": [
    {
     "data": {
      "image/png": "[encoded data removed]",
      "text/plain": [
       "<Figure size 640x480 with 1 Axes>"
      ]
     },
     "metadata": {},
     "output_type": "display_data"
    }
   ],
   "source": [
    "plt.scatter(y_train, modelo_SVM.predict(X_train), c = 'green', label='Actual')\n",
    "plt.scatter(y_test, prediccion_SVM_y, c='blue', label='Predicción')\n",
    "\n",
    "plt.xlabel(\"Precios\")\n",
    "plt.ylabel(\"Predicción de Precios\")\n",
    "plt.title(\"Precios vs Predicción de Precios\")\n",
    "plt.legend()\n",
    "plt.show()"
   ]
  },
  {
   "cell_type": "markdown",
   "id": "cb68fc82",
   "metadata": {},
   "source": [
    "**K - Neighbors**"
   ]
  },
  {
   "cell_type": "code",
   "execution_count": 17,
   "id": "c80ce4e4",
   "metadata": {},
   "outputs": [
    {
     "name": "stdout",
     "output_type": "stream",
     "text": [
      "Precisión del train:  0.8287387699781297\n",
      "Precisión del test:  0.8293783480504798\n"
     ]
    }
   ],
   "source": [
    "from sklearn.neighbors import KNeighborsRegressor\n",
    "modelo_KNN = KNeighborsRegressor()\n",
    "\n",
    "modelo_KNN.fit(X_train, y_train)\n",
    "prediccion_KNN_y = modelo_KNN.predict(X_test)\n",
    "\n",
    "print('Precisión del train: ', modelo_KNN.score(X_train, y_train))\n",
    "print(\"Precisión del test: \", modelo_KNN.score(X_test, y_test))\n",
    "# print(\"Precisión del modelo: \", r2_score(y, modelo_KNN.predict(X)))"
   ]
  },
  {
   "cell_type": "code",
   "execution_count": 18,
   "id": "7be144af",
   "metadata": {},
   "outputs": [
    {
     "name": "stdout",
     "output_type": "stream",
     "text": [
      "Coeficiente de determinación R2:  0.8293783480504798\n",
      "Error cuadrático medio:  11.829572549019602\n"
     ]
    }
   ],
   "source": [
    "r2_KNN = r2_score(y_test, prediccion_KNN_y)\n",
    "mse_KNN = mean_squared_error(y_test, prediccion_KNN_y)\n",
    "print('Coeficiente de determinación R2: ', r2_KNN)\n",
    "print('Error cuadrático medio: ', mse_KNN)"
   ]
  },
  {
   "cell_type": "code",
   "execution_count": 19,
   "id": "8c6403d6",
   "metadata": {},
   "outputs": [
    {
     "data": {
      "image/png": "[encoded data removed]",
      "text/plain": [
       "<Figure size 640x480 with 1 Axes>"
      ]
     },
     "metadata": {},
     "output_type": "display_data"
    }
   ],
   "source": [
    "plt.scatter(y_train, modelo_KNN.predict(X_train), c='green', label='Actual')\n",
    "plt.scatter(y_test, prediccion_KNN_y, c='blue', label='Predicción')\n",
    "plt.xlabel(\"Precios\")\n",
    "plt.ylabel(\"Predicción de Precios\")\n",
    "plt.title(\"Precios vs Predicción de Precios\")\n",
    "plt.legend()\n",
    "plt.show()"
   ]
  },
  {
   "cell_type": "markdown",
   "id": "e3dfe945",
   "metadata": {},
   "source": [
    "**Exercici 2**  \n",
    "\n",
    "Compara’ls en base al MSE i al R2."
   ]
  },
  {
   "cell_type": "code",
   "execution_count": 20,
   "id": "3fc30fc0",
   "metadata": {},
   "outputs": [],
   "source": [
    "tabla = pd.DataFrame(data = [['Regresión Lineal', r2_RL, mse_RL], ['Support Vector Machines', r2_SVM, mse_SVM], ['K-Neighbors', r2_KNN, mse_KNN]])"
   ]
  },
  {
   "cell_type": "code",
   "execution_count": 21,
   "id": "d40464fa",
   "metadata": {},
   "outputs": [
    {
     "data": {
      "text/html": [
       "<div>\n",
       "<style scoped>\n",
       "    .dataframe tbody tr th:only-of-type {\n",
       "        vertical-align: middle;\n",
       "    }\n",
       "\n",
       "    .dataframe tbody tr th {\n",
       "        vertical-align: top;\n",
       "    }\n",
       "\n",
       "    .dataframe thead th {\n",
       "        text-align: right;\n",
       "    }\n",
       "</style>\n",
       "<table border=\"1\" class=\"dataframe\">\n",
       "  <thead>\n",
       "    <tr style=\"text-align: right;\">\n",
       "      <th></th>\n",
       "      <th>Modelo</th>\n",
       "      <th>R2</th>\n",
       "      <th>MSE</th>\n",
       "    </tr>\n",
       "  </thead>\n",
       "  <tbody>\n",
       "    <tr>\n",
       "      <th>0</th>\n",
       "      <td>Regresión Lineal</td>\n",
       "      <td>0.738410</td>\n",
       "      <td>18.136613</td>\n",
       "    </tr>\n",
       "    <tr>\n",
       "      <th>1</th>\n",
       "      <td>Support Vector Machines</td>\n",
       "      <td>0.668806</td>\n",
       "      <td>22.962382</td>\n",
       "    </tr>\n",
       "    <tr>\n",
       "      <th>2</th>\n",
       "      <td>K-Neighbors</td>\n",
       "      <td>0.829378</td>\n",
       "      <td>11.829573</td>\n",
       "    </tr>\n",
       "  </tbody>\n",
       "</table>\n",
       "</div>"
      ],
      "text/plain": [
       "                    Modelo        R2        MSE\n",
       "0         Regresión Lineal  0.738410  18.136613\n",
       "1  Support Vector Machines  0.668806  22.962382\n",
       "2              K-Neighbors  0.829378  11.829573"
      ]
     },
     "execution_count": 21,
     "metadata": {},
     "output_type": "execute_result"
    }
   ],
   "source": [
    "tabla.columns = ['Modelo', 'R2', 'MSE']\n",
    "tabla"
   ]
  },
  {
   "cell_type": "markdown",
   "id": "57ec590c",
   "metadata": {},
   "source": [
    "El **Error Cuadrático Medio (MSE)** es una medida para evaluar el rendimiento de un modelo de regresión.  \n",
    "Mide la diferencia promedio al cuadrado entre los valores predichos por el modelo y los valores reales.  \n",
    "  \n",
    "Implica tomar la diferencia entre cada valor predicho y su valor real correspondiente, elevar esa diferencia al cuadrado y luego calcular el promedio de todas las diferencias al cuadrado.  \n",
    "El MSE es una métrica no negativa, ya que involucra elevar al cuadrado las diferencias.  \n",
    "  \n",
    "El MSE penaliza de manera más fuerte los errores más grandes debido al término de elevar al cuadrado. Esto significa que los errores más grandes tienen un impacto proporcionalmente mayor en el valor del MSE.\n",
    "\n",
    "Cuanto más cercano a cero sea el valor del MSE, mejor será el ajuste del modelo a los datos y menor será la discrepancia entre las predicciones y los valores reales, por lo que en lo que respecta a los modelos utilizados, el  modelo de **Regresión Lineal** es el que ha funcionado mejor."
   ]
  },
  {
   "cell_type": "markdown",
   "id": "6d0a1998",
   "metadata": {},
   "source": [
    "El **coeficiente de determinación R2** (también conocido como **R-cuadrado**) es una métrica utilizada para evaluar la calidad de un modelo de regresión. Cómo de bien se ajustan las predicciones del modelo a los datos observados.  \n",
    "  \n",
    "El coeficiente R2 varía entre 0 y 1:   \n",
    "- R2 = 0: El modelo no explica la variabilidad de los datos y sus predicciones no son mejores que simplemente usar el valor medio de la variable de respuesta.  \n",
    "- R2 = 1: El modelo ajusta perfectamente los datos y puede explicar toda la variabilidad observada.  \n",
    "- R2 negativo: puede indicar que el modelo es inapropiado o que las predicciones son peores que simplemente usar el valor medio de la variable de respuesta.  \n",
    "\n",
    "R2 no indica la calidad absoluta del modelo y no proporciona información sobre la precisión de las predicciones individuales. Hay que complementar el R2 con otras métricas de evaluación, como el MSE o el MAE (Error Absoluto Medio)  \n",
    "En los modelos utilizados, el mejor valor de R2 es el del modelo de **Regresión Lineal** también, pero dado que el valor oscila entre 0 y 1 , es algo mayor de la mitad, lo que no parece indicar una gran calidad del modelo."
   ]
  },
  {
   "cell_type": "markdown",
   "id": "e41f0ab9",
   "metadata": {},
   "source": [
    "**Exercici 3**  \n",
    "\n",
    "Entrena’ls utilitzant els diferents paràmetres que admeten per intentar millorar-ne la predicció."
   ]
  },
  {
   "cell_type": "markdown",
   "id": "a8f03ca0",
   "metadata": {},
   "source": [
    "Importamos **GridSearchCV**, para encontrar los valores de los Hiperparámetros que funcionen mejor en un *Grid* (conjunto de los valores ajustables de los hiperparámetros del modelo)  \n",
    "Después se vuelve a hacer la predicción con los hiperparámetros optimizados para ver si mejora el modelo."
   ]
  },
  {
   "cell_type": "code",
   "execution_count": 22,
   "id": "4854c349",
   "metadata": {},
   "outputs": [],
   "source": [
    "from sklearn.model_selection import GridSearchCV"
   ]
  },
  {
   "cell_type": "markdown",
   "id": "6c77900b",
   "metadata": {},
   "source": [
    "**Miramos los parametros del modelo de Regresion Lineal:**"
   ]
  },
  {
   "cell_type": "code",
   "execution_count": 23,
   "id": "d6999479",
   "metadata": {},
   "outputs": [
    {
     "data": {
      "text/plain": [
       "{'copy_X': True,\n",
       " 'fit_intercept': True,\n",
       " 'n_jobs': None,\n",
       " 'normalize': 'deprecated',\n",
       " 'positive': False}"
      ]
     },
     "execution_count": 23,
     "metadata": {},
     "output_type": "execute_result"
    }
   ],
   "source": [
    "modelo_RL.get_params()"
   ]
  },
  {
   "cell_type": "code",
   "execution_count": 24,
   "id": "91507149",
   "metadata": {},
   "outputs": [],
   "source": [
    "parametros_RL = {\n",
    "    'copy_X': [True, False],\n",
    "    'fit_intercept': [True, False],\n",
    "    'positive': [True, False]\n",
    "}"
   ]
  },
  {
   "cell_type": "code",
   "execution_count": 25,
   "id": "e4af9564",
   "metadata": {},
   "outputs": [
    {
     "name": "stdout",
     "output_type": "stream",
     "text": [
      "{'copy_X': True, 'fit_intercept': False, 'positive': False}\n"
     ]
    }
   ],
   "source": [
    "grid = GridSearchCV(LinearRegression(), parametros_RL, cv=10)\n",
    "grid.fit(X, y)\n",
    "print(grid.best_params_)"
   ]
  },
  {
   "cell_type": "markdown",
   "id": "2f8e1de4",
   "metadata": {},
   "source": [
    "Se repite el modelo, indicando los nuevos parámetros:"
   ]
  },
  {
   "cell_type": "code",
   "execution_count": 26,
   "id": "e3884553",
   "metadata": {},
   "outputs": [
    {
     "name": "stdout",
     "output_type": "stream",
     "text": [
      "Precisión del train_2:  0.7482850019433814\n",
      "Precisión del test_2:  0.738409918092005\n"
     ]
    }
   ],
   "source": [
    "modelo_RL_2 = LinearRegression(copy_X= True, fit_intercept= False, positive= False)\n",
    "\n",
    "#Entrenamiento y predicción\n",
    "modelo_RL_2.fit(X_train, y_train)\n",
    "prediccion_RL_y_2 = modelo_RL_2.predict(X_test)\n",
    "\n",
    "print('Precisión del train_2: ', modelo_RL_2.score(X_train, y_train))\n",
    "print('Precisión del test_2: ',  modelo_RL_2.score(X_test, y_test))\n",
    "# print('Precisión de modelo_2: ', r2_score(y, modelo_RL_2.predict(X)))"
   ]
  },
  {
   "cell_type": "code",
   "execution_count": 27,
   "id": "adebfa85",
   "metadata": {},
   "outputs": [
    {
     "name": "stdout",
     "output_type": "stream",
     "text": [
      "Coeficiente de determinación R2:  0.738409918092005\n",
      "Error cuadrático medio:  18.13661288984672\n"
     ]
    }
   ],
   "source": [
    "r2_RL_2 = r2_score(y_test, prediccion_RL_y_2)\n",
    "mse_RL_2 = mean_squared_error(y_test, prediccion_RL_y_2)\n",
    "print('Coeficiente de determinación R2: ', r2_RL_2)\n",
    "print('Error cuadrático medio: ', mse_RL_2)"
   ]
  },
  {
   "cell_type": "code",
   "execution_count": 28,
   "id": "0d6db487",
   "metadata": {},
   "outputs": [
    {
     "data": {
      "image/png": "[encoded data removed]",
      "text/plain": [
       "<Figure size 1000x500 with 2 Axes>"
      ]
     },
     "metadata": {},
     "output_type": "display_data"
    }
   ],
   "source": [
    "fig, (ax1, ax2) = plt.subplots(1, 2, figsize=(10, 5))\n",
    "# Izquierda\n",
    "ax1.scatter(y_train, modelo_RL.predict(X_train), c = 'green', label='Actual')\n",
    "ax1.scatter(y_test,prediccion_RL_y, c='blue', label='Predicción')\n",
    "\n",
    "ax1.set_xlabel(\"Precios\")\n",
    "ax1.set_ylabel(\"Predicción de Precios\")\n",
    "ax1.set_title(\"Precios vs Predicción de Precios\")\n",
    "ax1.legend()\n",
    "\n",
    "# Derecha\n",
    "ax2.scatter(y_train, modelo_RL_2.predict(X_train), c = 'green', label='Actual')\n",
    "ax2.scatter(y_test,prediccion_RL_y_2, c='blue', label='Predicción')\n",
    "\n",
    "ax2.set_xlabel(\"Precios\")\n",
    "ax2.set_ylabel(\"Predicción de Precios\")\n",
    "ax2.set_title(\"Precios vs Predicción Precios Nuevos Parámetros\")\n",
    "ax2.legend()\n",
    "\n",
    "plt.show()"
   ]
  },
  {
   "cell_type": "markdown",
   "id": "3c11d6c3",
   "metadata": {},
   "source": [
    "No parece haber mejorado el modelo con los nuevos parámetros"
   ]
  },
  {
   "cell_type": "code",
   "execution_count": 29,
   "id": "47a4f826",
   "metadata": {},
   "outputs": [],
   "source": [
    "valores_RL = pd.DataFrame(data = [['Coeficiente de determinación R2: ', r2_RL, r2_RL_2], ['Error cuadrático medio: ', mse_RL, mse_RL_2]])"
   ]
  },
  {
   "cell_type": "code",
   "execution_count": 30,
   "id": "260231a8",
   "metadata": {},
   "outputs": [
    {
     "data": {
      "text/html": [
       "<div>\n",
       "<style scoped>\n",
       "    .dataframe tbody tr th:only-of-type {\n",
       "        vertical-align: middle;\n",
       "    }\n",
       "\n",
       "    .dataframe tbody tr th {\n",
       "        vertical-align: top;\n",
       "    }\n",
       "\n",
       "    .dataframe thead th {\n",
       "        text-align: right;\n",
       "    }\n",
       "</style>\n",
       "<table border=\"1\" class=\"dataframe\">\n",
       "  <thead>\n",
       "    <tr style=\"text-align: right;\">\n",
       "      <th></th>\n",
       "      <th>Modelo</th>\n",
       "      <th>RL</th>\n",
       "      <th>RL_Mejorado</th>\n",
       "    </tr>\n",
       "  </thead>\n",
       "  <tbody>\n",
       "    <tr>\n",
       "      <th>0</th>\n",
       "      <td>Coeficiente de determinación R2:</td>\n",
       "      <td>0.738410</td>\n",
       "      <td>0.738410</td>\n",
       "    </tr>\n",
       "    <tr>\n",
       "      <th>1</th>\n",
       "      <td>Error cuadrático medio:</td>\n",
       "      <td>18.136613</td>\n",
       "      <td>18.136613</td>\n",
       "    </tr>\n",
       "  </tbody>\n",
       "</table>\n",
       "</div>"
      ],
      "text/plain": [
       "                              Modelo         RL  RL_Mejorado\n",
       "0  Coeficiente de determinación R2:    0.738410     0.738410\n",
       "1           Error cuadrático medio:   18.136613    18.136613"
      ]
     },
     "execution_count": 30,
     "metadata": {},
     "output_type": "execute_result"
    }
   ],
   "source": [
    "valores_RL.columns = ['Modelo', 'RL', 'RL_Mejorado']\n",
    "valores_RL\n",
    "\n",
    "# ¿NO ha cambiado nada? ¿?"
   ]
  },
  {
   "cell_type": "code",
   "execution_count": null,
   "id": "b8741301",
   "metadata": {},
   "outputs": [],
   "source": []
  },
  {
   "cell_type": "markdown",
   "id": "26f74ae5",
   "metadata": {},
   "source": [
    "**Miramos los parametros del modelo SVM:**"
   ]
  },
  {
   "cell_type": "code",
   "execution_count": 31,
   "id": "dc4bc447",
   "metadata": {},
   "outputs": [],
   "source": [
    "from sklearn.model_selection import GridSearchCV"
   ]
  },
  {
   "cell_type": "code",
   "execution_count": 32,
   "id": "97543bbe",
   "metadata": {},
   "outputs": [
    {
     "data": {
      "text/plain": [
       "{'C': 1.0,\n",
       " 'cache_size': 200,\n",
       " 'coef0': 0.0,\n",
       " 'degree': 3,\n",
       " 'epsilon': 0.1,\n",
       " 'gamma': 'scale',\n",
       " 'kernel': 'rbf',\n",
       " 'max_iter': -1,\n",
       " 'shrinking': True,\n",
       " 'tol': 0.001,\n",
       " 'verbose': False}"
      ]
     },
     "execution_count": 32,
     "metadata": {},
     "output_type": "execute_result"
    }
   ],
   "source": [
    "modelo_SVM.get_params()"
   ]
  },
  {
   "cell_type": "code",
   "execution_count": 33,
   "id": "a6e849fb",
   "metadata": {},
   "outputs": [
    {
     "data": {
      "text/plain": [
       "dict_keys(['C', 'cache_size', 'coef0', 'degree', 'epsilon', 'gamma', 'kernel', 'max_iter', 'shrinking', 'tol', 'verbose'])"
      ]
     },
     "execution_count": 33,
     "metadata": {},
     "output_type": "execute_result"
    }
   ],
   "source": [
    "modelo_SVM.get_params().keys()"
   ]
  },
  {
   "cell_type": "code",
   "execution_count": 34,
   "id": "56d9988e",
   "metadata": {},
   "outputs": [],
   "source": [
    "parametros_SVM = {\n",
    "    'C': [1, 5, 8, 10,12],\n",
    "    'gamma': ['scale','auto'],\n",
    "    'kernel': ['linear', 'rbf', 'poly'],\n",
    "    'degree': [2, 3, 4]\n",
    "}"
   ]
  },
  {
   "cell_type": "code",
   "execution_count": 35,
   "id": "de093828",
   "metadata": {},
   "outputs": [
    {
     "name": "stdout",
     "output_type": "stream",
     "text": [
      "{'C': 12, 'degree': 2, 'gamma': 'auto', 'kernel': 'rbf'}\n"
     ]
    }
   ],
   "source": [
    "grid = GridSearchCV(SVR(), parametros_SVM, cv=10)\n",
    "grid.fit(X, y)\n",
    "print(grid.best_params_)"
   ]
  },
  {
   "cell_type": "markdown",
   "id": "0e5a96ff",
   "metadata": {},
   "source": [
    "Se repite el modelo, indicando los nuevos parámetros:"
   ]
  },
  {
   "cell_type": "code",
   "execution_count": 36,
   "id": "6272bf67",
   "metadata": {},
   "outputs": [
    {
     "name": "stdout",
     "output_type": "stream",
     "text": [
      "Precisión del train:  0.8460904129552783\n",
      "Precisión del test:  0.8415405761496809\n"
     ]
    }
   ],
   "source": [
    "\n",
    "modelo_SVM_2 = SVR(C = 12, degree= 2, gamma = 'auto', kernel = 'rbf')\n",
    "\n",
    "modelo_SVM_2.fit(X_train, y_train)\n",
    "prediccion_SVM_y_2= modelo_SVM_2.predict(X_test)\n",
    "\n",
    "print('Precisión del train: ', modelo_SVM_2.score(X_train, y_train))\n",
    "print(\"Precisión del test: \", modelo_SVM_2.score(X_test, y_test))\n",
    "# print(\"Precisión del modelo: \", r2_score(y, modelo_SVM_2.predict(X)))"
   ]
  },
  {
   "cell_type": "code",
   "execution_count": 37,
   "id": "64eeb944",
   "metadata": {},
   "outputs": [
    {
     "name": "stdout",
     "output_type": "stream",
     "text": [
      "Coeficiente de determinación R2:  0.8415405761496809\n",
      "Error cuadrático medio:  10.986338656876828\n"
     ]
    }
   ],
   "source": [
    "r2_SVM_2 = r2_score(y_test, prediccion_SVM_y_2)\n",
    "mse_SVM_2 = mean_squared_error(y_test, prediccion_SVM_y_2)\n",
    "print('Coeficiente de determinación R2: ', r2_SVM_2)\n",
    "print('Error cuadrático medio: ', mse_SVM_2)"
   ]
  },
  {
   "cell_type": "code",
   "execution_count": 38,
   "id": "12ffb8a6",
   "metadata": {},
   "outputs": [
    {
     "data": {
      "image/png": "[encoded data removed]",
      "text/plain": [
       "<Figure size 1000x500 with 2 Axes>"
      ]
     },
     "metadata": {},
     "output_type": "display_data"
    }
   ],
   "source": [
    "fig, (ax1, ax2) = plt.subplots(1, 2, figsize=(10, 5))\n",
    "# Izquierda\n",
    "ax1.scatter(y_train, modelo_SVM.predict(X_train), c = 'green', label='Actual')\n",
    "ax1.scatter(y_test,prediccion_SVM_y, c='blue', label='Predicción')\n",
    "\n",
    "ax1.set_xlabel(\"Precios\")\n",
    "ax1.set_ylabel(\"Predicción de Precios\")\n",
    "ax1.set_title(\"Precios vs Predicción de Precios\")\n",
    "ax1.legend()\n",
    "\n",
    "# Derecha\n",
    "ax2.scatter(y_train, modelo_SVM_2.predict(X_train), c = 'green', label='Actual')\n",
    "ax2.scatter(y_test,prediccion_SVM_y_2, c='blue', label='Predicción')\n",
    "\n",
    "ax2.set_xlabel(\"Precios\")\n",
    "ax2.set_ylabel(\"Predicción de Precios\")\n",
    "ax2.set_title(\"Precios vs Predicción Precios Nuevos Parámetros\")\n",
    "ax2.legend()\n",
    "\n",
    "plt.show()"
   ]
  },
  {
   "cell_type": "code",
   "execution_count": 39,
   "id": "4eaddc67",
   "metadata": {},
   "outputs": [],
   "source": [
    "valores_SVM = pd.DataFrame(data = [['Coeficiente de determinación R2: ', r2_SVM, r2_SVM_2], ['Error cuadrático medio: ', mse_SVM, mse_SVM_2]])"
   ]
  },
  {
   "cell_type": "code",
   "execution_count": 40,
   "id": "fb82c32a",
   "metadata": {},
   "outputs": [
    {
     "data": {
      "text/html": [
       "<div>\n",
       "<style scoped>\n",
       "    .dataframe tbody tr th:only-of-type {\n",
       "        vertical-align: middle;\n",
       "    }\n",
       "\n",
       "    .dataframe tbody tr th {\n",
       "        vertical-align: top;\n",
       "    }\n",
       "\n",
       "    .dataframe thead th {\n",
       "        text-align: right;\n",
       "    }\n",
       "</style>\n",
       "<table border=\"1\" class=\"dataframe\">\n",
       "  <thead>\n",
       "    <tr style=\"text-align: right;\">\n",
       "      <th></th>\n",
       "      <th>Modelo</th>\n",
       "      <th>SVM</th>\n",
       "      <th>SVM_Mejorado</th>\n",
       "    </tr>\n",
       "  </thead>\n",
       "  <tbody>\n",
       "    <tr>\n",
       "      <th>0</th>\n",
       "      <td>Coeficiente de determinación R2:</td>\n",
       "      <td>0.668806</td>\n",
       "      <td>0.841541</td>\n",
       "    </tr>\n",
       "    <tr>\n",
       "      <th>1</th>\n",
       "      <td>Error cuadrático medio:</td>\n",
       "      <td>22.962382</td>\n",
       "      <td>10.986339</td>\n",
       "    </tr>\n",
       "  </tbody>\n",
       "</table>\n",
       "</div>"
      ],
      "text/plain": [
       "                              Modelo        SVM  SVM_Mejorado\n",
       "0  Coeficiente de determinación R2:    0.668806      0.841541\n",
       "1           Error cuadrático medio:   22.962382     10.986339"
      ]
     },
     "execution_count": 40,
     "metadata": {},
     "output_type": "execute_result"
    }
   ],
   "source": [
    "valores_SVM.columns = ['Modelo', 'SVM', 'SVM_Mejorado']\n",
    "valores_SVM\n",
    "\n",
    "# ¿NO ha cambiado nada? ¿?"
   ]
  },
  {
   "cell_type": "markdown",
   "id": "d7c396b3",
   "metadata": {},
   "source": [
    "En este caso si podemos apreciar mejorías entre el modelo y el modelo-mejorado."
   ]
  },
  {
   "cell_type": "markdown",
   "id": "465c215c",
   "metadata": {},
   "source": [
    "**Miramos los parametros del modelo K - Neighbors:**"
   ]
  },
  {
   "cell_type": "code",
   "execution_count": 41,
   "id": "f08d1318",
   "metadata": {},
   "outputs": [],
   "source": [
    "from sklearn.model_selection import GridSearchCV"
   ]
  },
  {
   "cell_type": "code",
   "execution_count": 42,
   "id": "a95e6509",
   "metadata": {},
   "outputs": [
    {
     "data": {
      "text/plain": [
       "{'algorithm': 'auto',\n",
       " 'leaf_size': 30,\n",
       " 'metric': 'minkowski',\n",
       " 'metric_params': None,\n",
       " 'n_jobs': None,\n",
       " 'n_neighbors': 5,\n",
       " 'p': 2,\n",
       " 'weights': 'uniform'}"
      ]
     },
     "execution_count": 42,
     "metadata": {},
     "output_type": "execute_result"
    }
   ],
   "source": [
    "modelo_KNN.get_params()"
   ]
  },
  {
   "cell_type": "code",
   "execution_count": 43,
   "id": "0267e241",
   "metadata": {},
   "outputs": [],
   "source": [
    "parametros_KNN = {\n",
    "    'algorithm': ['auto', 'ball_tree', 'kd_tree', 'brute'],\n",
    "    'leaf_size': [20,30, 40],\n",
    "    'metric': ['minkowski', 'euclidean', 'manhattan'],\n",
    "    'metric_params': [None],\n",
    "    'n_jobs': [None],\n",
    "    'n_neighbors': [2, 5, 6, 8],\n",
    "    'p': [1, 2, 3],\n",
    "    'weights': ['uniform', 'distance']\n",
    "}"
   ]
  },
  {
   "cell_type": "code",
   "execution_count": 44,
   "id": "7e7a24d0",
   "metadata": {},
   "outputs": [
    {
     "name": "stdout",
     "output_type": "stream",
     "text": [
      "{'algorithm': 'auto', 'leaf_size': 20, 'metric': 'minkowski', 'metric_params': None, 'n_jobs': None, 'n_neighbors': 8, 'p': 2, 'weights': 'distance'}\n",
      "0.4734450570882996\n"
     ]
    }
   ],
   "source": [
    "grid = GridSearchCV(KNeighborsRegressor(), parametros_KNN, cv=5)\n",
    "grid.fit(X, y)\n",
    "print(grid.best_params_)\n",
    "print(grid.best_score_)"
   ]
  },
  {
   "cell_type": "markdown",
   "id": "019385e4",
   "metadata": {},
   "source": [
    "Se repite el modelo con los nuevos parámetros:"
   ]
  },
  {
   "cell_type": "code",
   "execution_count": 45,
   "id": "05513619",
   "metadata": {},
   "outputs": [
    {
     "name": "stdout",
     "output_type": "stream",
     "text": [
      "Precisión del train:  0.999999999999996\n",
      "Precisión del test:  0.8600521036237423\n"
     ]
    }
   ],
   "source": [
    "modelo_KNN_2 = KNeighborsRegressor(**grid.best_params_)\n",
    "\n",
    "modelo_KNN_2.fit(X_train, y_train)\n",
    "prediccion_KNN_y_2= modelo_KNN_2.predict(X_test)\n",
    "\n",
    "print('Precisión del train: ', modelo_KNN_2.score(X_train, y_train))\n",
    "print(\"Precisión del test: \", modelo_KNN_2.score(X_test, y_test))\n",
    "# print(\"Precisión del modelo: \", r2_score(y, modelo_SVM_2.predict(X)))"
   ]
  },
  {
   "cell_type": "code",
   "execution_count": 46,
   "id": "524f3a3c",
   "metadata": {},
   "outputs": [
    {
     "name": "stdout",
     "output_type": "stream",
     "text": [
      "Coeficiente de determinación R2:  0.8600521036237423\n",
      "Error cuadrático medio:  9.702893943117013\n"
     ]
    }
   ],
   "source": [
    "r2_KNN_2 = r2_score(y_test, prediccion_KNN_y_2)\n",
    "mse_KNN_2 = mean_squared_error(y_test, prediccion_KNN_y_2)\n",
    "print('Coeficiente de determinación R2: ', r2_KNN_2)\n",
    "print('Error cuadrático medio: ', mse_KNN_2)"
   ]
  },
  {
   "cell_type": "code",
   "execution_count": 47,
   "id": "4f8812a8",
   "metadata": {},
   "outputs": [
    {
     "data": {
      "image/png": "[encoded data removed]",
      "text/plain": [
       "<Figure size 1000x500 with 2 Axes>"
      ]
     },
     "metadata": {},
     "output_type": "display_data"
    }
   ],
   "source": [
    "fig, (ax1, ax2) = plt.subplots(1, 2, figsize=(10, 5))\n",
    "# Izquierda\n",
    "ax1.scatter(y_train, modelo_KNN.predict(X_train), c = 'green', label='Actual')\n",
    "ax1.scatter(y_test,prediccion_KNN_y, c='blue', label='Predicción')\n",
    "\n",
    "ax1.set_xlabel(\"Precios\")\n",
    "ax1.set_ylabel(\"Predicción de Precios\")\n",
    "ax1.set_title(\"Precios vs Predicción de Precios\")\n",
    "ax1.legend()\n",
    "\n",
    "# Derecha\n",
    "ax2.scatter(y_train, modelo_KNN_2.predict(X_train), c = 'green', label='Actual')\n",
    "ax2.scatter(y_test,prediccion_KNN_y_2, c='blue', label='Predicción')\n",
    "\n",
    "ax2.set_xlabel(\"Precios\")\n",
    "ax2.set_ylabel(\"Predicción de Precios\")\n",
    "ax2.set_title(\"Precios vs Predicción Precios Nuevos Parámetros\")\n",
    "ax2.legend()\n",
    "\n",
    "plt.show()"
   ]
  },
  {
   "cell_type": "code",
   "execution_count": 48,
   "id": "d8673038",
   "metadata": {},
   "outputs": [],
   "source": [
    "valores_SVM = pd.DataFrame(data = [['Coeficiente de determinación R2: ', r2_SVM, r2_SVM_2], ['Error cuadrático medio: ', mse_SVM, mse_SVM_2]])"
   ]
  },
  {
   "cell_type": "code",
   "execution_count": 49,
   "id": "fd43f7ed",
   "metadata": {},
   "outputs": [
    {
     "data": {
      "text/html": [
       "<div>\n",
       "<style scoped>\n",
       "    .dataframe tbody tr th:only-of-type {\n",
       "        vertical-align: middle;\n",
       "    }\n",
       "\n",
       "    .dataframe tbody tr th {\n",
       "        vertical-align: top;\n",
       "    }\n",
       "\n",
       "    .dataframe thead th {\n",
       "        text-align: right;\n",
       "    }\n",
       "</style>\n",
       "<table border=\"1\" class=\"dataframe\">\n",
       "  <thead>\n",
       "    <tr style=\"text-align: right;\">\n",
       "      <th></th>\n",
       "      <th>Modelo</th>\n",
       "      <th>SVM</th>\n",
       "      <th>SVM_Mejorado</th>\n",
       "    </tr>\n",
       "  </thead>\n",
       "  <tbody>\n",
       "    <tr>\n",
       "      <th>0</th>\n",
       "      <td>Coeficiente de determinación R2:</td>\n",
       "      <td>0.668806</td>\n",
       "      <td>0.841541</td>\n",
       "    </tr>\n",
       "    <tr>\n",
       "      <th>1</th>\n",
       "      <td>Error cuadrático medio:</td>\n",
       "      <td>22.962382</td>\n",
       "      <td>10.986339</td>\n",
       "    </tr>\n",
       "  </tbody>\n",
       "</table>\n",
       "</div>"
      ],
      "text/plain": [
       "                              Modelo        SVM  SVM_Mejorado\n",
       "0  Coeficiente de determinación R2:    0.668806      0.841541\n",
       "1           Error cuadrático medio:   22.962382     10.986339"
      ]
     },
     "execution_count": 49,
     "metadata": {},
     "output_type": "execute_result"
    }
   ],
   "source": [
    "valores_SVM.columns = ['Modelo', 'SVM', 'SVM_Mejorado']\n",
    "valores_SVM\n",
    "\n",
    "# ¿NO ha cambiado nada? ¿?"
   ]
  },
  {
   "cell_type": "code",
   "execution_count": 50,
   "id": "72d31f87",
   "metadata": {},
   "outputs": [],
   "source": [
    "from sklearn.model_selection import cross_val_score"
   ]
  },
  {
   "cell_type": "code",
   "execution_count": 51,
   "id": "341d43c7",
   "metadata": {},
   "outputs": [],
   "source": [
    "from sklearn.utils import shuffle\n",
    "X, y = shuffle(X, y, random_state=42)"
   ]
  },
  {
   "cell_type": "code",
   "execution_count": 52,
   "id": "75d51b2e",
   "metadata": {},
   "outputs": [
    {
     "data": {
      "text/plain": [
       "array([0.70054803, 0.80452975, 0.65972096, 0.86354376, 0.74184282])"
      ]
     },
     "execution_count": 52,
     "metadata": {},
     "output_type": "execute_result"
    }
   ],
   "source": [
    "cross_val_score(KNeighborsRegressor(**grid.best_params_),X,y)"
   ]
  },
  {
   "cell_type": "markdown",
   "id": "26c3348d",
   "metadata": {},
   "source": [
    "**Exercici 4**\n",
    "\n",
    "Compara el seu rendiment emprant l’aproximació traint/test o emprant totes les dades (validació interna)."
   ]
  },
  {
   "cell_type": "code",
   "execution_count": 53,
   "id": "fd3a56a8",
   "metadata": {},
   "outputs": [
    {
     "data": {
      "text/plain": [
       "0.7809341232911565"
      ]
     },
     "execution_count": 53,
     "metadata": {},
     "output_type": "execute_result"
    }
   ],
   "source": [
    "# Rendimiento / Puntuación en Regresión Lineal:\n",
    "\n",
    "rend_RL_CV = cross_val_score(LinearRegression(), X, y, cv=5,scoring ='r2')\n",
    "max(rend_RL_CV)"
   ]
  },
  {
   "cell_type": "code",
   "execution_count": 54,
   "id": "fffe3ecb",
   "metadata": {},
   "outputs": [
    {
     "data": {
      "text/plain": [
       "0.6178027304942759"
      ]
     },
     "execution_count": 54,
     "metadata": {},
     "output_type": "execute_result"
    }
   ],
   "source": [
    "# Rendimiento / Puntuación en Support Vector Machines (SVM):\n",
    "\n",
    "rend_SVM_CV = cross_val_score(SVR(), X, y, cv=5,scoring ='r2')\n",
    "max(rend_SVM_CV)"
   ]
  },
  {
   "cell_type": "code",
   "execution_count": 55,
   "id": "6911effc",
   "metadata": {},
   "outputs": [
    {
     "data": {
      "text/plain": [
       "0.8525002371731913"
      ]
     },
     "execution_count": 55,
     "metadata": {},
     "output_type": "execute_result"
    }
   ],
   "source": [
    "# Rendimiento / Puntuación en K - Neighbors:\n",
    "\n",
    "rend_KNN_CV = cross_val_score(KNeighborsRegressor(), X, y, cv=5,scoring ='r2')\n",
    "max(rend_KNN_CV)"
   ]
  },
  {
   "cell_type": "code",
   "execution_count": 56,
   "id": "dc2d3d98",
   "metadata": {},
   "outputs": [],
   "source": [
    "comp_R2_CV = pd.DataFrame([['Regresión Lineal', r2_RL, max(rend_RL_CV)], ['Support Vector Machines', r2_SVM, max(rend_SVM_CV)], ['K - Neighbors', r2_KNN, max(rend_KNN_CV)]])"
   ]
  },
  {
   "cell_type": "code",
   "execution_count": 57,
   "id": "76cd02c8",
   "metadata": {},
   "outputs": [
    {
     "data": {
      "text/html": [
       "<div>\n",
       "<style scoped>\n",
       "    .dataframe tbody tr th:only-of-type {\n",
       "        vertical-align: middle;\n",
       "    }\n",
       "\n",
       "    .dataframe tbody tr th {\n",
       "        vertical-align: top;\n",
       "    }\n",
       "\n",
       "    .dataframe thead th {\n",
       "        text-align: right;\n",
       "    }\n",
       "</style>\n",
       "<table border=\"1\" class=\"dataframe\">\n",
       "  <thead>\n",
       "    <tr style=\"text-align: right;\">\n",
       "      <th></th>\n",
       "      <th>Modelo</th>\n",
       "      <th>Train/Test (R2)</th>\n",
       "      <th>Cross Validation</th>\n",
       "    </tr>\n",
       "  </thead>\n",
       "  <tbody>\n",
       "    <tr>\n",
       "      <th>0</th>\n",
       "      <td>Regresión Lineal</td>\n",
       "      <td>0.738410</td>\n",
       "      <td>0.780934</td>\n",
       "    </tr>\n",
       "    <tr>\n",
       "      <th>1</th>\n",
       "      <td>Support Vector Machines</td>\n",
       "      <td>0.668806</td>\n",
       "      <td>0.617803</td>\n",
       "    </tr>\n",
       "    <tr>\n",
       "      <th>2</th>\n",
       "      <td>K - Neighbors</td>\n",
       "      <td>0.829378</td>\n",
       "      <td>0.852500</td>\n",
       "    </tr>\n",
       "  </tbody>\n",
       "</table>\n",
       "</div>"
      ],
      "text/plain": [
       "                    Modelo  Train/Test (R2)  Cross Validation\n",
       "0         Regresión Lineal         0.738410          0.780934\n",
       "1  Support Vector Machines         0.668806          0.617803\n",
       "2            K - Neighbors         0.829378          0.852500"
      ]
     },
     "execution_count": 57,
     "metadata": {},
     "output_type": "execute_result"
    }
   ],
   "source": [
    "comp_R2_CV.columns = ['Modelo', 'Train/Test (R2)', 'Cross Validation']\n",
    "comp_R2_CV"
   ]
  },
  {
   "cell_type": "markdown",
   "id": "46566475",
   "metadata": {},
   "source": [
    "Parece mejorar en todos los casos cuando se emplean todos los datos."
   ]
  },
  {
   "cell_type": "markdown",
   "id": "09fc2188",
   "metadata": {},
   "source": [
    "**Exercici 5**  \n",
    "  \n",
    "No facis servir la variable del nombre d'habitacions (RM) a l’hora de fer prediccions."
   ]
  },
  {
   "cell_type": "code",
   "execution_count": 58,
   "id": "1feca259",
   "metadata": {},
   "outputs": [],
   "source": [
    "from sklearn.model_selection import train_test_split\n",
    "import pandas as pd"
   ]
  },
  {
   "cell_type": "code",
   "execution_count": 59,
   "id": "32e52af7",
   "metadata": {},
   "outputs": [],
   "source": [
    "# Sobre los mismos conjuntos, separamos la variable (RM)\n",
    "\n",
    "nueva_X = viviendas_transf.drop(['RM','MEDV'],axis=1)\n",
    "y = viviendas_transf['MEDV']"
   ]
  },
  {
   "cell_type": "code",
   "execution_count": 60,
   "id": "f4ebceca",
   "metadata": {},
   "outputs": [],
   "source": [
    "# 80% para train / 20% para test:\n",
    "\n",
    "nueva_X_train, nueva_X_test, y_train, y_test = train_test_split(nueva_X, y, test_size=0.2, random_state=77)"
   ]
  },
  {
   "cell_type": "code",
   "execution_count": 61,
   "id": "a096a299",
   "metadata": {},
   "outputs": [
    {
     "name": "stdout",
     "output_type": "stream",
     "text": [
      "True\n",
      "True\n"
     ]
    }
   ],
   "source": [
    "# Comprobamos que ambos test / train tienen el mismo tamaño:\n",
    "\n",
    "print(len(nueva_X_train) == len(y_train))\n",
    "print(len(nueva_X_test) == len(y_test))"
   ]
  },
  {
   "cell_type": "code",
   "execution_count": 62,
   "id": "461a46d5",
   "metadata": {},
   "outputs": [
    {
     "name": "stdout",
     "output_type": "stream",
     "text": [
      "Precisión del train:  0.7794886666653261\n",
      "Precisión del test:  0.6852205945807845\n"
     ]
    }
   ],
   "source": [
    "# Aplicamos el modelo K - Neighbors (que dió el mejor reultado de los tres) al nuevo grupo sin la variable (RM):\n",
    "\n",
    "from sklearn.neighbors import KNeighborsRegressor\n",
    "modelo_KNN_N = KNeighborsRegressor()\n",
    "\n",
    "modelo_KNN_N.fit(nueva_X_train, y_train)\n",
    "prediccion_KNN_y_nueva = modelo_KNN_N.predict(nueva_X_test)\n",
    "\n",
    "print('Precisión del train: ', modelo_KNN_N.score(nueva_X_train, y_train))\n",
    "print(\"Precisión del test: \", modelo_KNN_N.score(nueva_X_test, y_test))\n",
    "# print(\"Precisión del modelo: \", r2_score(y, modelo_KNN.predict(X)))"
   ]
  },
  {
   "cell_type": "code",
   "execution_count": 63,
   "id": "09872348",
   "metadata": {},
   "outputs": [
    {
     "data": {
      "text/plain": [
       "{'algorithm': 'auto',\n",
       " 'leaf_size': 30,\n",
       " 'metric': 'minkowski',\n",
       " 'metric_params': None,\n",
       " 'n_jobs': None,\n",
       " 'n_neighbors': 5,\n",
       " 'p': 2,\n",
       " 'weights': 'uniform'}"
      ]
     },
     "execution_count": 63,
     "metadata": {},
     "output_type": "execute_result"
    }
   ],
   "source": [
    "modelo_KNN_N.get_params()"
   ]
  },
  {
   "cell_type": "code",
   "execution_count": 64,
   "id": "3e555183",
   "metadata": {},
   "outputs": [],
   "source": [
    "parametros_KNN_N = {\n",
    "    'algorithm': ['auto', 'ball_tree', 'kd_tree', 'brute'],\n",
    "    'leaf_size': [20,30,40],\n",
    "    'metric': ['minkowski', 'euclidean', 'manhattan'],\n",
    "    'metric_params': [None],\n",
    "    'n_jobs': [None],\n",
    "    'n_neighbors': [5, 6, 8],\n",
    "    'p': [1, 2, 3],\n",
    "    'weights': ['uniform', 'distance']\n",
    "}"
   ]
  },
  {
   "cell_type": "code",
   "execution_count": 65,
   "id": "6364a841",
   "metadata": {},
   "outputs": [
    {
     "name": "stdout",
     "output_type": "stream",
     "text": [
      "{'algorithm': 'auto', 'leaf_size': 20, 'metric': 'minkowski', 'metric_params': None, 'n_jobs': None, 'n_neighbors': 6, 'p': 2, 'weights': 'distance'}\n",
      "-0.06396782479223011\n"
     ]
    }
   ],
   "source": [
    "grid_2 = GridSearchCV(KNeighborsRegressor(), parametros_KNN_N, cv=10)\n",
    "grid_2.fit(nueva_X, y)\n",
    "print(grid_2.best_params_)\n",
    "print(grid_2.best_score_)"
   ]
  },
  {
   "cell_type": "code",
   "execution_count": 66,
   "id": "a662215b",
   "metadata": {},
   "outputs": [
    {
     "name": "stdout",
     "output_type": "stream",
     "text": [
      "Precisión del train:  0.9999999999999282\n",
      "Precisión del test:  0.7538442147755722\n"
     ]
    }
   ],
   "source": [
    "modelo_KNN_N_2 = KNeighborsRegressor(**grid_2.best_params_)\n",
    "\n",
    "modelo_KNN_N_2.fit(nueva_X_train, y_train)\n",
    "prediccion_KNN_y_2_N= modelo_KNN_N_2.predict(nueva_X_test)\n",
    "\n",
    "print('Precisión del train: ', modelo_KNN_N_2.score(nueva_X_train, y_train))\n",
    "print(\"Precisión del test: \", modelo_KNN_N_2.score(nueva_X_test, y_test))\n",
    "# print(\"Precisión del modelo: \", r2_score(y, modelo_SVM_2.predict(X)))"
   ]
  },
  {
   "cell_type": "code",
   "execution_count": null,
   "id": "4721776a",
   "metadata": {},
   "outputs": [],
   "source": []
  },
  {
   "cell_type": "code",
   "execution_count": null,
   "id": "1ca930c6",
   "metadata": {},
   "outputs": [],
   "source": []
  },
  {
   "cell_type": "code",
   "execution_count": 67,
   "id": "62fa9a97",
   "metadata": {},
   "outputs": [
    {
     "data": {
      "image/png": "[encoded data removed]",
      "text/plain": [
       "<Figure size 1000x500 with 3 Axes>"
      ]
     },
     "metadata": {},
     "output_type": "display_data"
    }
   ],
   "source": [
    "fig, (ax1, ax2, ax3) = plt.subplots(1, 3, figsize=(10, 5))\n",
    "# Izquierda\n",
    "ax1.scatter(y_train, modelo_KNN.predict(X_train), c = 'green', label='Actual')\n",
    "ax1.scatter(y_test,prediccion_KNN_y, c='blue', label='Predicción')\n",
    "\n",
    "ax1.set_xlabel(\"Precios\")\n",
    "ax1.set_ylabel(\"Predicción de Precios\")\n",
    "ax1.set_title(\"K - Neighbors\")\n",
    "ax1.legend()\n",
    "\n",
    "# Centro\n",
    "ax2.scatter(y_train, modelo_KNN_2.predict(X_train), c = 'green', label='Actual')\n",
    "ax2.scatter(y_test,prediccion_KNN_y_2, c='blue', label='Predicción')\n",
    "\n",
    "ax2.set_xlabel(\"Precios\")\n",
    "ax2.set_ylabel(\"Predicción de Precios\")\n",
    "ax2.set_title(\"K - Neighbors Mejorado\")\n",
    "ax2.legend()\n",
    "\n",
    "# Derecha\n",
    "ax3.scatter(y_train, modelo_KNN_N_2.predict(nueva_X_train), c = 'green', label='Actual')\n",
    "ax3.scatter(y_test,prediccion_KNN_y_2_N, c='blue', label='Predicción')\n",
    "\n",
    "ax3.set_xlabel(\"Precios\")\n",
    "ax3.set_ylabel(\"Predicción de Precios\")\n",
    "ax3.set_title(\"K - Neighbors sin Variable (RM)\")\n",
    "ax3.legend()\n",
    "\n",
    "plt.show()"
   ]
  },
  {
   "cell_type": "markdown",
   "id": "09a23074",
   "metadata": {},
   "source": [
    "La precisión del modelo quitando la variable RM, es más baja que en con la variable. Esto se produce porque la variable RM (Número de habitaciones de la vivienda) influye notablemente en el precio de la vivienda.  \n",
    "Al quitarla del modelo, se produce un desajuste significante en el modelo.  "
   ]
  },
  {
   "cell_type": "code",
   "execution_count": null,
   "id": "9254c63e",
   "metadata": {},
   "outputs": [],
   "source": []
  },
  {
   "cell_type": "code",
   "execution_count": null,
   "id": "6a86b787",
   "metadata": {},
   "outputs": [],
   "source": []
  }
 ],
 "metadata": {
  "kernelspec": {
   "display_name": "Python 3 (ipykernel)",
   "language": "python",
   "name": "python3"
  },
  "language_info": {
   "codemirror_mode": {
    "name": "ipython",
    "version": 3
   },
   "file_extension": ".py",
   "mimetype": "text/x-python",
   "name": "python",
   "nbconvert_exporter": "python",
   "pygments_lexer": "ipython3",
   "version": "3.9.13"
  }
 },
 "nbformat": 4,
 "nbformat_minor": 5
}
